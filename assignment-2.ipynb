{
 "cells": [
  {
   "cell_type": "markdown",
   "id": "a891f495-91aa-4db7-8e18-e5b3fb713e74",
   "metadata": {},
   "source": [
    "Q1.How do you comment code in Python? What are the different types of comments?"
   ]
  },
  {
   "cell_type": "code",
   "execution_count": 1,
   "id": "af364fed-8332-435e-ad1a-60c686fb0d28",
   "metadata": {},
   "outputs": [
    {
     "data": {
      "text/plain": [
       "'my name is vikky shaw and i am non-tech baground.\\nnow i am learning data science master 2.0 in pwskills.\\nin data science we learn python,stats,maching learning,deep leraning,nlp,computervission.'"
      ]
     },
     "execution_count": 1,
     "metadata": {},
     "output_type": "execute_result"
    }
   ],
   "source": [
    "\"\"\"my name is vikky shaw and i am non-tech baground.\n",
    "now i am learning data science master 2.0 in pwskills.\n",
    "in data science we learn python,stats,maching learning,deep leraning,nlp,computervission.\"\"\""
   ]
  },
  {
   "cell_type": "markdown",
   "id": "7d0938d7-7ed9-45dd-b6bf-6ba4abe46db6",
   "metadata": {},
   "source": [
    "there are two types of commant 1 is ## and 2 is triple corce start \"\"\" to end \"\"\""
   ]
  },
  {
   "cell_type": "markdown",
   "id": "fb38b97b-0ed4-4496-901c-68d73c8d1441",
   "metadata": {},
   "source": [
    "Q2. What are variables in Python? How do you declare and assign values to variables?"
   ]
  },
  {
   "cell_type": "markdown",
   "id": "0163db8f-9b11-45a6-a4bf-a7c2fd7fa886",
   "metadata": {},
   "source": [
    "ans. varible is one kind of a symbolic name where we can store data which refer to object in assigned. if we need any kind of data then we symply called symbolic name where we store data.\n",
    "\n",
    "declare and assign values to variables is :\n",
    "varible name must be start in letter,underscore and non-number letter."
   ]
  },
  {
   "cell_type": "markdown",
   "id": "5e3ef379-3b48-4f32-aea4-897786b220c1",
   "metadata": {},
   "source": [
    "Q3. How do you convert one data type to another in Python?"
   ]
  },
  {
   "cell_type": "markdown",
   "id": "6082850d-d30a-40e7-b5d4-4152f6c20326",
   "metadata": {},
   "source": [
    "ans. to convert one data type to another in python is simply use the type name in function.there are different kinds of function to convert one data type to another in python and these function is represent new object."
   ]
  },
  {
   "cell_type": "markdown",
   "id": "70f6e8f2-bef5-44fa-81aa-93c6b045be63",
   "metadata": {},
   "source": [
    "Q4. How do you write and execute a Python script from the command line?"
   ]
  },
  {
   "cell_type": "markdown",
   "id": "854bd102-d685-4dcb-87ea-469ae64fa6af",
   "metadata": {},
   "source": [
    "ans. To run Python scripts with the python command, we need to open a command-line and type in the word python , or python3 if you have both versions, followed by the path to your script, like this: python first_script.py Hello World! Then you hit the ENTER button from the keyboard, and that's it."
   ]
  },
  {
   "cell_type": "markdown",
   "id": "3bad581d-fe14-4e6c-a9f0-07c51fda8910",
   "metadata": {},
   "source": [
    "Q5. Given a list my_list = [1, 2, 3, 4, 5], write the code to slice the list and obtain the sub-list [2, 3]."
   ]
  },
  {
   "cell_type": "code",
   "execution_count": 10,
   "id": "d0ef8950-5e80-4f53-a8d1-0f47a615335b",
   "metadata": {},
   "outputs": [
    {
     "data": {
      "text/plain": [
       "[2, 3]"
      ]
     },
     "execution_count": 10,
     "metadata": {},
     "output_type": "execute_result"
    }
   ],
   "source": [
    "my_list[1:3:]"
   ]
  },
  {
   "cell_type": "markdown",
   "id": "92ebeb5b-f129-4d48-9c24-35f42e749dfe",
   "metadata": {},
   "source": [
    "Q6. What is a complex number in mathematics, and how is it represented in Python?"
   ]
  },
  {
   "cell_type": "markdown",
   "id": "f6938af3-ed26-4f22-bb34-169e1d68b2f7",
   "metadata": {},
   "source": [
    "ans. a complex number is created from two numbers like (a + bj) where a and b is real number and j is imaginery number.\n",
    "\n",
    "the represented in python is (5 + 7j)."
   ]
  },
  {
   "cell_type": "markdown",
   "id": "b1fbf6f8-27e2-4564-8104-df6c98705bdb",
   "metadata": {},
   "source": [
    "Q7. What is the correct way to declare a variable named age and assign the value 25 to it?"
   ]
  },
  {
   "cell_type": "markdown",
   "id": "0619444d-cbc5-4b42-b9d4-d2a1df485586",
   "metadata": {},
   "source": [
    "the correct way to declare a variable named age and assign the value 25 to it is dictionery. like varr_able ={}"
   ]
  },
  {
   "cell_type": "markdown",
   "id": "380915ff-8c4f-4a89-8c38-cb973f90be14",
   "metadata": {},
   "source": [
    "Q8. Declare a variable named price and assign the value 9.99 to it. What data type does this variable\n",
    "belong to?"
   ]
  },
  {
   "cell_type": "code",
   "execution_count": 11,
   "id": "f01df52c-82b1-4067-a640-bdf4f64927e6",
   "metadata": {},
   "outputs": [],
   "source": [
    "a =[\"vikky\",450,9.99]"
   ]
  },
  {
   "cell_type": "code",
   "execution_count": 17,
   "id": "ff1e8f55-3b87-4677-b62c-42d9d0bb3566",
   "metadata": {},
   "outputs": [
    {
     "name": "stdout",
     "output_type": "stream",
     "text": [
      "<class 'str'>\n",
      "<class 'int'>\n",
      "<class 'float'>\n"
     ]
    }
   ],
   "source": [
    "for i in a :\n",
    "    print(type(i))"
   ]
  },
  {
   "cell_type": "markdown",
   "id": "5603fc71-7e80-474d-90a8-2e8f277e524a",
   "metadata": {},
   "source": [
    "Q9. Create a variable named name and assign your full name to it as a string. How would you print the\n",
    "value of this variable?"
   ]
  },
  {
   "cell_type": "code",
   "execution_count": 18,
   "id": "f7d21602-41e3-4b29-8ae9-be29747cf1f7",
   "metadata": {},
   "outputs": [],
   "source": [
    "b =[\"vikky shaw\"]"
   ]
  },
  {
   "cell_type": "code",
   "execution_count": 19,
   "id": "11ec7a3d-a5c8-4c9d-ad5a-9bb17a5d2a89",
   "metadata": {},
   "outputs": [
    {
     "name": "stdout",
     "output_type": "stream",
     "text": [
      "vikky shaw\n"
     ]
    }
   ],
   "source": [
    "for i in b :\n",
    "    print(i)"
   ]
  },
  {
   "cell_type": "markdown",
   "id": "b7abf8ff-1eeb-49a2-a5bd-af7bc36e3724",
   "metadata": {},
   "source": [
    "Q10. Given the string \"Hello, World!\", extract the substring \"World\"."
   ]
  },
  {
   "cell_type": "code",
   "execution_count": 20,
   "id": "8021e0a5-bfa2-40c0-b631-c6c67d103ce4",
   "metadata": {},
   "outputs": [],
   "source": [
    "s =[\"Hello, world!\"]"
   ]
  },
  {
   "cell_type": "code",
   "execution_count": 25,
   "id": "c9c32c26-1240-4bcb-acd0-2bb31892ae7b",
   "metadata": {},
   "outputs": [
    {
     "name": "stdout",
     "output_type": "stream",
     "text": [
      "world!\n"
     ]
    }
   ],
   "source": [
    "for i in s :\n",
    "    print(\"world!\")"
   ]
  },
  {
   "cell_type": "code",
   "execution_count": null,
   "id": "1f6f450a-2e38-4bdb-8e6d-eb1e775ca888",
   "metadata": {},
   "outputs": [],
   "source": []
  }
 ],
 "metadata": {
  "kernelspec": {
   "display_name": "Python 3 (ipykernel)",
   "language": "python",
   "name": "python3"
  },
  "language_info": {
   "codemirror_mode": {
    "name": "ipython",
    "version": 3
   },
   "file_extension": ".py",
   "mimetype": "text/x-python",
   "name": "python",
   "nbconvert_exporter": "python",
   "pygments_lexer": "ipython3",
   "version": "3.10.8"
  }
 },
 "nbformat": 4,
 "nbformat_minor": 5
}
